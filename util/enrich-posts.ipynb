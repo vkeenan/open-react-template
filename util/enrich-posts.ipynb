{
 "cells": [
  {
   "attachments": {},
   "cell_type": "markdown",
   "metadata": {},
   "source": [
    "# Install required packages\n"
   ]
  },
  {
   "cell_type": "code",
   "execution_count": null,
   "metadata": {},
   "outputs": [],
   "source": [
    "from shared import *"
   ]
  },
  {
   "attachments": {},
   "cell_type": "markdown",
   "metadata": {},
   "source": [
    "## Get Posts and see if they are enriched"
   ]
  },
  {
   "cell_type": "code",
   "execution_count": null,
   "metadata": {},
   "outputs": [],
   "source": [
    "cursor.execute(\"SELECT ID, post_title, post_content FROM workdifferent_wp_0ksss.wmqzcV0Sj_posts WHERE post_type = 'post' AND post_status = 'publish' ORDER BY post_date desc\")\n",
    "posts = cursor.fetchall()\n",
    "for post_id, post_title, post_content in posts:\n",
    "    cursor.execute(\"SELECT * FROM workdifferent_wp_0ksss.wmqzcV0Sj_post_enrichments WHERE post_id = %s;\", (post_id,))\n",
    "    existing_summary = cursor.fetchone()\n",
    "    \n",
    "    if not existing_summary:\n",
    "        enriched_data = enrich_post(post_title, post_content)\n",
    "        cursor.execute(\"\"\"\n",
    "        INSERT INTO workdifferent_wp_0ksss.wmqzcV0Sj_post_enrichments (post_id, enrichment_datetime, articlesection, description, keywords, extracted_text, summary)\n",
    "        VALUES (%s, %s, %s, %s, %s, %s, %s);\n",
    "        \"\"\", (post_id, datetime.now(), enriched_data['articleSection'][:80], enriched_data['description'], enriched_data['keywords'], enriched_data['extractedText'],\n",
    "              enriched_data['summary']))\n",
    "        db.commit()\n",
    "        print(f\"Post {post_id} enriched and saved.\")\n",
    "    else:\n",
    "        print(f\"Post {post_id} already enriched, skipping.\")\n",
    "cursor.close()\n",
    "db.close()"
   ]
  }
 ],
 "metadata": {
  "kernelspec": {
   "display_name": "base",
   "language": "python",
   "name": "python3"
  },
  "language_info": {
   "codemirror_mode": {
    "name": "ipython",
    "version": 3
   },
   "file_extension": ".py",
   "mimetype": "text/x-python",
   "name": "python",
   "nbconvert_exporter": "python",
   "pygments_lexer": "ipython3",
   "version": "3.10.12"
  },
  "orig_nbformat": 4
 },
 "nbformat": 4,
 "nbformat_minor": 2
}
