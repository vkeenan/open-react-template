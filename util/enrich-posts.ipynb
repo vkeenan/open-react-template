{
 "cells": [
  {
   "attachments": {},
   "cell_type": "markdown",
   "metadata": {},
   "source": [
    "# Install required packages\n"
   ]
  },
  {
   "cell_type": "code",
   "execution_count": 1,
   "metadata": {},
   "outputs": [],
   "source": [
    "from shared import *"
   ]
  },
  {
   "attachments": {},
   "cell_type": "markdown",
   "metadata": {},
   "source": [
    "## Get Posts and see if they are enriched"
   ]
  },
  {
   "cell_type": "code",
   "execution_count": 2,
   "metadata": {},
   "outputs": [
    {
     "name": "stdout",
     "output_type": "stream",
     "text": [
      "Enriching post Building an Foundation for AI at Ariat\n",
      "Keywords: Salesforce, Anypoint Code Builder, AI-assisted coding, Integration challenges, Legacy Tooling Migration\n",
      "Summary: Salesforce has released Anypoint Code Builder, an AI-powered integrated development environment (IDE) upgrade of MuleSoft's outdated Eclipse-based tooling. The AI-assisted Microsoft VS Code-based IDE aims to solve two main issues: the migration from legacy tools and the challenge of integrating more data systems simultaneously. The Code Builder boasts features such as AI code generation, a robust extension ecosystem, flexible deployment options, industry accelerators, and the potential to automate up to 90% of coding tasks. While some predict AI to soon render human programmers redundant, others expect AI will augment developers' capabilities instead. The new IDE reinforces Salesforce's strong position in AI enablement and system integration space.\n",
      "SEO Description: \"Salesforce launches AI-powered Anypoint Code Builder for accelerated API and enterprise system integration.\"\n",
      "articleSection: I'm sorry, there seems to be a misunderstanding. Could you please provide me with the taxonomy so I can classify the article accurately?\n",
      "Post 731 enriched and saved.\n",
      "Enriching post From Sparse to Dense: GPT-4 Summarization with Chain of Density Prompting\n",
      "Keywords: GPT-4 Summarization, Chain of Density Prompting, Entity-sparse summaries, Informativeness and readability, Human preference study\n",
      "Summary: The article \"From Sparse to Dense: GPT-4 Summarization with Chain of Density Prompting\" presents new research on AI-driven summarization techniques. The authors develop a unique method, Chain of Density (CoD) prompting, which uses GPT-4 AI to generate concise, information-rich summaries. The approach fills initial entity-sparse summaries with relevant details while maintaining the same length, rendering them denser and less biased than those produced by a standard prompt. Tested on CNN DailyMail articles, results show a preference for more detail-dense summaries. The article further discusses the balance between informativeness and readability, supplying access to annotated and non-annotated CoD summaries. \n",
      "\n",
      "Classification per the taxonomy:\n",
      "Main Category: Enterprise AI\n",
      "Sub-categories: AI for IT, AI Development and Operations\n",
      "SEO Description: \"New study explores GPT-4's 'Chain of Density' method for improved, denser AI-generated summaries.\"\n",
      "articleSection: Enterprise AI; AI for IT, AI Development and Operations\n",
      "Post 719 enriched and saved.\n",
      "Post 698 already enriched, skipping.\n",
      "Post 694 already enriched, skipping.\n",
      "Post 680 already enriched, skipping.\n",
      "Post 660 already enriched, skipping.\n",
      "Post 626 already enriched, skipping.\n",
      "Post 627 already enriched, skipping.\n",
      "Post 617 already enriched, skipping.\n",
      "Post 612 already enriched, skipping.\n",
      "Post 608 already enriched, skipping.\n",
      "Post 585 already enriched, skipping.\n",
      "Post 582 already enriched, skipping.\n",
      "Post 578 already enriched, skipping.\n",
      "Post 574 already enriched, skipping.\n",
      "Post 569 already enriched, skipping.\n",
      "Post 552 already enriched, skipping.\n",
      "Post 544 already enriched, skipping.\n",
      "Post 541 already enriched, skipping.\n",
      "Post 537 already enriched, skipping.\n",
      "Post 534 already enriched, skipping.\n",
      "Post 530 already enriched, skipping.\n",
      "Post 526 already enriched, skipping.\n",
      "Post 506 already enriched, skipping.\n",
      "Post 1 already enriched, skipping.\n"
     ]
    }
   ],
   "source": [
    "cursor.execute(\"SELECT ID, post_title, post_content FROM workdifferent_wp_0ksss.wmqzcV0Sj_posts WHERE post_type = 'post' AND post_status = 'publish' ORDER BY post_date desc\")\n",
    "posts = cursor.fetchall()\n",
    "for post_id, post_title, post_content in posts:\n",
    "    cursor.execute(\"SELECT * FROM workdifferent_wp_0ksss.wmqzcV0Sj_post_enrichments WHERE post_id = %s;\", (post_id,))\n",
    "    existing_summary = cursor.fetchone()\n",
    "    \n",
    "    if not existing_summary:\n",
    "        enriched_data = enrich_post(post_title, post_content)\n",
    "        cursor.execute(\"\"\"\n",
    "        INSERT INTO workdifferent_wp_0ksss.wmqzcV0Sj_post_enrichments (post_id, enrichment_datetime, articlesection, description, keywords, extracted_text, summary)\n",
    "        VALUES (%s, %s, %s, %s, %s, %s, %s);\n",
    "        \"\"\", (post_id, datetime.now(), enriched_data['articleSection'][:80], enriched_data['description'], enriched_data['keywords'], enriched_data['extractedText'],\n",
    "              enriched_data['summary']))\n",
    "        db.commit()\n",
    "        print(f\"Post {post_id} enriched and saved.\")\n",
    "    else:\n",
    "        print(f\"Post {post_id} already enriched, skipping.\")\n",
    "cursor.close()\n",
    "db.close()\n",
    "\n"
   ]
  }
 ],
 "metadata": {
  "kernelspec": {
   "display_name": "base",
   "language": "python",
   "name": "python3"
  },
  "language_info": {
   "codemirror_mode": {
    "name": "ipython",
    "version": 3
   },
   "file_extension": ".py",
   "mimetype": "text/x-python",
   "name": "python",
   "nbconvert_exporter": "python",
   "pygments_lexer": "ipython3",
   "version": "3.10.12"
  },
  "orig_nbformat": 4
 },
 "nbformat": 4,
 "nbformat_minor": 2
}
