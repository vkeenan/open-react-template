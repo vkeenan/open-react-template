{
 "cells": [
  {
   "attachments": {},
   "cell_type": "markdown",
   "metadata": {},
   "source": [
    "# Install required packages\n"
   ]
  },
  {
   "cell_type": "code",
   "execution_count": 1,
   "metadata": {},
   "outputs": [],
   "source": [
    "from shared import *"
   ]
  },
  {
   "attachments": {},
   "cell_type": "markdown",
   "metadata": {},
   "source": [
    "## Get Posts and see if they are enriched"
   ]
  },
  {
   "cell_type": "code",
   "execution_count": 2,
   "metadata": {},
   "outputs": [
    {
     "name": "stdout",
     "output_type": "stream",
     "text": [
      "Enriching post From Sparse to Dense: GPT-4 Summarization with Chain of Density Prompting\n",
      "Keywords: Sparse to Dense, GPT-4 Summarization, Chain of Density Prompting, entity-sparse summary, human preference study\n",
      "Summary: The academic article \"From Sparse to Dense: GPT-4 Summarization with Chain of Density Prompting\" explores the use of GPT-4 for generating dense summaries using a 'Chain of Density' prompt. This approach aims to iteratively fill an initial sparse summary with additional relevant entities without increasing the length. The study found that these dense summaries show more abstraction, fusion, and less lead bias. A human preference study revealed that participants favor denser GPT-4 summaries. The researchers also made available 500 annotated and 5000 unannotated CoD summaries on HuggingFace. The paper is recognized as a valuable contribution to controlling the density in summarization, which can have broad commercial applications, including customizable summaries to suit user needs and density-based personalization of summaries.\n",
      "SEO Description: \"New GPT-4 method offers denser, controllable summarization using Chain of Density prompting technique.\"\n",
      "articleSection: AI & Analytics; Natural Language Processing\n",
      "Post 709 enriched and saved.\n",
      "Post 698 already enriched, skipping.\n",
      "Post 694 already enriched, skipping.\n",
      "Post 680 already enriched, skipping.\n",
      "Post 660 already enriched, skipping.\n",
      "Post 626 already enriched, skipping.\n",
      "Post 627 already enriched, skipping.\n",
      "Post 617 already enriched, skipping.\n",
      "Post 612 already enriched, skipping.\n",
      "Post 608 already enriched, skipping.\n",
      "Post 585 already enriched, skipping.\n",
      "Post 582 already enriched, skipping.\n",
      "Post 578 already enriched, skipping.\n",
      "Post 574 already enriched, skipping.\n",
      "Post 569 already enriched, skipping.\n",
      "Post 552 already enriched, skipping.\n",
      "Post 544 already enriched, skipping.\n",
      "Post 541 already enriched, skipping.\n",
      "Post 537 already enriched, skipping.\n",
      "Post 534 already enriched, skipping.\n",
      "Post 530 already enriched, skipping.\n",
      "Post 526 already enriched, skipping.\n",
      "Post 506 already enriched, skipping.\n",
      "Post 1 already enriched, skipping.\n"
     ]
    }
   ],
   "source": [
    "cursor.execute(\"SELECT ID, post_title, post_content FROM workdifferent_wp_0ksss.wmqzcV0Sj_posts WHERE post_type = 'post' AND post_status = 'publish' ORDER BY post_date desc\")\n",
    "posts = cursor.fetchall()\n",
    "for post_id, post_title, post_content in posts:\n",
    "    cursor.execute(\"SELECT * FROM workdifferent_wp_0ksss.wmqzcV0Sj_post_enrichments WHERE post_id = %s;\", (post_id,))\n",
    "    existing_summary = cursor.fetchone()\n",
    "    \n",
    "    if not existing_summary:\n",
    "        enriched_data = enrich_post(post_title, post_content)\n",
    "        cursor.execute(\"\"\"\n",
    "        INSERT INTO workdifferent_wp_0ksss.wmqzcV0Sj_post_enrichments (post_id, enrichment_datetime, articlesection, description, keywords, extracted_text, summary)\n",
    "        VALUES (%s, %s, %s, %s, %s, %s, %s);\n",
    "        \"\"\", (post_id, datetime.now(), enriched_data['articleSection'][:80], enriched_data['description'], enriched_data['keywords'], enriched_data['extractedText'],\n",
    "              enriched_data['summary']))\n",
    "        db.commit()\n",
    "        print(f\"Post {post_id} enriched and saved.\")\n",
    "    else:\n",
    "        print(f\"Post {post_id} already enriched, skipping.\")\n",
    "cursor.close()\n",
    "db.close()\n",
    "\n"
   ]
  }
 ],
 "metadata": {
  "kernelspec": {
   "display_name": "base",
   "language": "python",
   "name": "python3"
  },
  "language_info": {
   "codemirror_mode": {
    "name": "ipython",
    "version": 3
   },
   "file_extension": ".py",
   "mimetype": "text/x-python",
   "name": "python",
   "nbconvert_exporter": "python",
   "pygments_lexer": "ipython3",
   "version": "3.10.12"
  },
  "orig_nbformat": 4
 },
 "nbformat": 4,
 "nbformat_minor": 2
}
