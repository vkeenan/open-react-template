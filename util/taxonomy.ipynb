{
 "cells": [
  {
   "cell_type": "code",
   "execution_count": null,
   "metadata": {},
   "outputs": [],
   "source": [
    "def parse_taxonomy_v2(text):\n",
    "    \"\"\"\n",
    "    Parse the taxonomy from the given text into a hierarchical structure.\n",
    "    Each line is expected to be in the format of '1.1.1 Category Name'.\n",
    "    Returns a list of dictionaries representing the taxonomy in a hierarchical manner.\n",
    "    \"\"\"\n",
    "    hierarchy = []\n",
    "    current_path = []  # Keeps track of the current path in the hierarchy\n",
    "\n",
    "    for line in text.split('\\n'):\n",
    "        # Find lines with the pattern '1.1.1 Category Name'\n",
    "        match = re.match(r'(\\d+(?:\\.\\d+)*)\\s+(.*)', line)\n",
    "        if match:\n",
    "            levels = match.group(1).split('.')\n",
    "            category_name = match.group(2).strip()\n",
    "            level = len(levels) - 1\n",
    "\n",
    "            # Adjust the current path to the current level\n",
    "            current_path = current_path[:level]\n",
    "            current_path.append(category_name)\n",
    "\n",
    "            # Create a record for this category\n",
    "            category_record = {\n",
    "                'Industry Name': category_name,\n",
    "                'Level': level,\n",
    "                'Path': '/'.join(current_path)\n",
    "            }\n",
    "            hierarchy.append(category_record)\n",
    "\n",
    "    return hierarchy\n",
    "\n",
    "file_path = 'taxonomy.txt'\n",
    "with open(file_path, 'r') as file:\n",
    "    full_taxonomy_content = file.read()\n",
    "\n",
    "\n",
    "# Parse the taxonomy from the text file\n",
    "parsed_taxonomy_v2 = parse_taxonomy_v2(full_taxonomy_content)\n",
    "\n",
    "# Display the first few records for verification\n",
    "parsed_taxonomy_v2[:10]  # Displaying first 10 records\n"
   ]
  }
 ],
 "metadata": {
  "kernelspec": {
   "display_name": "Python 3",
   "language": "python",
   "name": "python3"
  },
  "language_info": {
   "name": "python",
   "version": "3.10.12"
  }
 },
 "nbformat": 4,
 "nbformat_minor": 2
}
